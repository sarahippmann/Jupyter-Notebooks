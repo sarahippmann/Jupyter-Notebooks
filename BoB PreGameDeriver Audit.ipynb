{
 "cells": [
  {
   "cell_type": "code",
   "execution_count": 5,
   "id": "53235697-b955-489b-91c3-f9032a97def1",
   "metadata": {},
   "outputs": [],
   "source": [
    "import pandas as pd \n",
    "import numpy as np\n",
    "import matplotlib.pyplot as plt\n",
    "import glob \n",
    "import re"
   ]
  },
  {
   "cell_type": "markdown",
   "id": "6ea624f4-19cb-4785-8a88-a6ee778b007e",
   "metadata": {},
   "source": [
    "### Procedure for getting relevant files\n",
    "Go to Microsoft Storage Explorer and navigate to the following filepath: fbg-quants-core > Storage Accounts > quantsdata > Blob Containers > models-blending > PreGameDeriverAudits > {select relevant version} > Groups\n",
    "\n",
    "There should be 45 files for each blender version, download all of them as CSVs. Create a folder called PreGameDeriverAudits and within it another folder for the specific model versions that you want to test. Add the CSVs for each model version to the relevant folders\n",
    "\n",
    "To change this configuration for windows, the folder filepath needs to be changes to a Windows-one and all /'s need to be replaced to \\'s"
   ]
  },
  {
   "cell_type": "code",
   "execution_count": 17,
   "id": "1c764e88-65c8-41bf-9580-74a24f8a04c5",
   "metadata": {},
   "outputs": [],
   "source": [
    "folder_filepath = \"/Users/sara.hippmann/Documents/PreGameDeriverAudits\"\n",
    "model1_version = \"NFLWithBets\"\n",
    "model2_version = \"NFLNoBets\""
   ]
  },
  {
   "cell_type": "code",
   "execution_count": 18,
   "id": "9102615e-587a-4609-9394-9c6f7cf2bd84",
   "metadata": {},
   "outputs": [],
   "source": [
    "file_paths1 = glob.glob(f\"{folder_filepath}/{model1_version}/PreGameBlenderOnBets-*.csv\")\n",
    "group_data1 = {}\n",
    "pair_data1 = {}\n",
    "\n",
    "for path in file_paths1:\n",
    "    filename = path.split(\"/\")[-1]\n",
    "    parts = filename.replace(\".csv\", \"\").split(\"-\")[1:]\n",
    "\n",
    "    if len(parts) == 1:\n",
    "        group = parts[0]\n",
    "        group_data1[group] = pd.read_csv(path)\n",
    "    elif len(parts) == 2:\n",
    "        g1, g2 = parts\n",
    "        pair_data1[(g1, g2)] = pd.read_csv(path)"
   ]
  },
  {
   "cell_type": "code",
   "execution_count": 19,
   "id": "bf3549e1-9bba-4a2a-b049-83de2ea3fc16",
   "metadata": {},
   "outputs": [],
   "source": [
    "file_paths2 = glob.glob(f\"{folder_filepath}/{model2_version}/PreGameBlenderOnBets-*.csv\")\n",
    "group_data2 = {}\n",
    "pair_data2 = {}\n",
    "\n",
    "for path in file_paths2:\n",
    "    filename = path.split(\"/\")[-1]\n",
    "    parts = filename.replace(\".csv\", \"\").split(\"-\")[1:]\n",
    "\n",
    "    if len(parts) == 1:\n",
    "        group = parts[0]\n",
    "        group_data2[group] = pd.read_csv(path)\n",
    "    elif len(parts) == 2:\n",
    "        g1, g2 = parts\n",
    "        pair_data2[(g1, g2)] = pd.read_csv(path)"
   ]
  },
  {
   "cell_type": "code",
   "execution_count": 20,
   "id": "db99b5d5-ca1f-4555-8be2-bfd7774ba256",
   "metadata": {},
   "outputs": [],
   "source": [
    "def kelly_value(implied_prob, predicted_prob):\n",
    "    if predicted_prob == 0 or predicted_prob == 1:\n",
    "        return np.nan\n",
    "    return implied_prob * np.log(implied_prob / predicted_prob) + (1 - implied_prob) * np.log((1-implied_prob) / (1 - predicted_prob))"
   ]
  },
  {
   "cell_type": "code",
   "execution_count": 21,
   "id": "5ac3c71b-3c8f-4adf-a315-2d5ef4f13a9d",
   "metadata": {},
   "outputs": [],
   "source": [
    "def kelly_value_std_dev(implied_prob, predicted_prob):\n",
    "    if predicted_prob == 0 or predicted_prob == 1:\n",
    "        return np.nan\n",
    "    return np.sqrt(implied_prob * np.power(np.log(implied_prob / predicted_prob) - kelly_value, 2) + (1 - implied_prob) * np.power(np.log((1 - implied_prob) / (1 - predicted_prob)) - kelly_value, 2))"
   ]
  },
  {
   "cell_type": "code",
   "execution_count": 22,
   "id": "c2a9e36a-7d18-45e4-acfd-e7364f542ff6",
   "metadata": {},
   "outputs": [],
   "source": [
    "def kelly_sharpe(implied_prob, predicted_prob, mean, std_dev):\n",
    "    if predicted_prob > implied_prob:\n",
    "        sign = 1\n",
    "    else:\n",
    "        sign = -1\n",
    "    return sign * (mean / std_dev)"
   ]
  },
  {
   "cell_type": "code",
   "execution_count": 23,
   "id": "0ce89e62-0643-4e47-99be-721bf51cfaaa",
   "metadata": {},
   "outputs": [],
   "source": [
    "for key, df in group_data1.items():\n",
    "    df.columns = ['Market Type', 'Line', 'Minutes Until Off', 'Update Type', 'Consecutive Bets', 'Consecutive Prices', 'Bookmakers', 'Bet Count', 'Risk Limit', '% of Overs', 'Probability Band', 'Actual', 'Expected', 'Weight-1', 'Implied-1', 'Predicted-1']\n",
    "    #columns need to be adapted to include errors\n",
    "    group_data1[key] = df[[key, 'Weight-1', 'Implied-1', 'Predicted-1']] "
   ]
  },
  {
   "cell_type": "code",
   "execution_count": 24,
   "id": "a4bebf8f-bca5-476c-976e-cd1685ad888f",
   "metadata": {},
   "outputs": [],
   "source": [
    "for key, df in pair_data1.items():\n",
    "    df.columns = ['Market Type', 'Line', 'Minutes Until Off', 'Update Type', 'Consecutive Bets', 'Consecutive Prices', 'Bookmakers', 'Bet Count', 'Risk Limit', '% of Overs', 'Probability Band', 'Actual', 'Expected', 'Weight-1', 'Implied-1', 'Predicted-1']\n",
    "    #columns need to be adapted to include errors\n",
    "    pair_data1[key] = df[[key[0], key[1], 'Weight-1', 'Implied-1', 'Predicted-1']]"
   ]
  },
  {
   "cell_type": "code",
   "execution_count": 25,
   "id": "1ebabbe5-6a8c-4f71-9131-4a0693af33bf",
   "metadata": {},
   "outputs": [],
   "source": [
    "for key, df in group_data2.items():\n",
    "    df.columns = ['Market Type', 'Line', 'Minutes Until Off', 'Update Type', 'Consecutive Bets', 'Consecutive Prices', 'Bookmakers', 'Bet Count', 'Risk Limit', '% of Overs', 'Probability Band', 'Actual', 'Expected', 'Weight-2', 'Implied-2', 'Predicted-2']\n",
    "    #columns need to be adapted to include errors\n",
    "    group_data2[key] = df[[key, 'Weight-2', 'Implied-2', 'Predicted-2']] "
   ]
  },
  {
   "cell_type": "code",
   "execution_count": 26,
   "id": "4510a515-fe8b-4619-871d-79995d18ed75",
   "metadata": {},
   "outputs": [],
   "source": [
    "for key, df in pair_data2.items():\n",
    "    df.columns = ['Market Type', 'Line', 'Minutes Until Off', 'Update Type', 'Consecutive Bets', 'Consecutive Prices', 'Bookmakers', 'Bet Count', 'Risk Limit', '% of Overs', 'Probability Band', 'Actual', 'Expected', 'Weight-2', 'Implied-2', 'Predicted-2']\n",
    "    #columns need to be adapted to include errors\n",
    "    pair_data2[key] = df[[key[0], key[1], 'Weight-2', 'Implied-2', 'Predicted-2']]"
   ]
  },
  {
   "cell_type": "code",
   "execution_count": 27,
   "id": "7a415245-a382-4d16-879a-c4dbafe84b7b",
   "metadata": {},
   "outputs": [
    {
     "name": "stdout",
     "output_type": "stream",
     "text": [
      "   Bet Count      Weight-1  Implied-1  Predicted-1\n",
      "0          0  2.543241e+07   0.476567     0.476600\n",
      "1          1  2.555621e+06   0.498120     0.475407\n",
      "2      [2-3]  2.853749e+06   0.472810     0.476837\n",
      "3      [4-6]  2.614423e+06   0.502261     0.476165\n",
      "4     [7-10]  2.143540e+06   0.495631     0.477768\n",
      "5    [11-16]  2.116426e+06   0.489643     0.477788\n",
      "6    [17-25]  2.003949e+06   0.497631     0.478342\n",
      "7    [26-41]  1.901589e+06   0.506584     0.480014\n",
      "8    [42-78]  1.867072e+06   0.509076     0.482847\n",
      "9  [79-4687]  1.804154e+06   0.512516     0.487422\n"
     ]
    }
   ],
   "source": [
    "print(group_data1['Bet Count'])"
   ]
  },
  {
   "cell_type": "code",
   "execution_count": 28,
   "id": "af2fbb7a-72a3-43e9-bbd6-776e3c28bae2",
   "metadata": {},
   "outputs": [
    {
     "name": "stdout",
     "output_type": "stream",
     "text": [
      "   Bet Count      Weight-2  Implied-2  Predicted-2\n",
      "0          0  2.543241e+07   0.476567     0.476600\n",
      "1          1  2.555621e+06   0.498120     0.475338\n",
      "2      [2-3]  2.853749e+06   0.472811     0.476656\n",
      "3      [4-6]  2.614423e+06   0.502261     0.475890\n",
      "4     [7-10]  2.143540e+06   0.495631     0.477298\n",
      "5    [11-16]  2.116427e+06   0.489643     0.477131\n",
      "6    [17-25]  2.004162e+06   0.497579     0.477044\n",
      "7    [26-41]  1.901990e+06   0.506477     0.478122\n",
      "8    [42-77]  1.835765e+06   0.508895     0.479982\n",
      "9  [78-4687]  1.835637e+06   0.512578     0.481669\n"
     ]
    }
   ],
   "source": [
    "print(group_data2['Bet Count'])"
   ]
  }
 ],
 "metadata": {
  "kernelspec": {
   "display_name": "Python [conda env:base] *",
   "language": "python",
   "name": "conda-base-py"
  },
  "language_info": {
   "codemirror_mode": {
    "name": "ipython",
    "version": 3
   },
   "file_extension": ".py",
   "mimetype": "text/x-python",
   "name": "python",
   "nbconvert_exporter": "python",
   "pygments_lexer": "ipython3",
   "version": "3.13.5"
  }
 },
 "nbformat": 4,
 "nbformat_minor": 5
}
