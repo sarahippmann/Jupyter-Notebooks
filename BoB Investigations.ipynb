{
 "cells": [
  {
   "cell_type": "code",
   "execution_count": 1,
   "id": "f37b97ee-37f8-45c9-ad43-97461e511f60",
   "metadata": {},
   "outputs": [],
   "source": [
    "import pandas as pd\n",
    "import numpy as np"
   ]
  },
  {
   "cell_type": "code",
   "execution_count": 2,
   "id": "bcc438b3-bb3b-41b8-bdf9-c26988b9e616",
   "metadata": {},
   "outputs": [],
   "source": [
    "prod_data_csv = pd.read_csv(\"/Users/sara.hippmann/Downloads/sport-5-ruleset-Baseball-fixture-3055309481-0-0-audit_marketId=2503&selectionId=250300000001&relatedParticipantId=5514478.csv\")\n",
    "uat_data_csv = pd.read_csv(\"/Users/sara.hippmann/Downloads/sport-5-ruleset-Baseball-fixture-3055309481-0-0-audit?marketId=2503&selectionId=250300000001&relatedParticipantId=5514469.csv\")"
   ]
  },
  {
   "cell_type": "code",
   "execution_count": 3,
   "id": "0f4efc4d-05ac-4ff3-9001-9ccedc4f2889",
   "metadata": {},
   "outputs": [],
   "source": [
    "prod_data_csv.drop(columns=['isPreMatch', 'confidence', 'displayed', 'open', 'openForCashout', 'localTime'], inplace=True)\n",
    "uat_data_csv.drop(columns=['isPreMatch', 'confidence', 'displayed', 'open', 'openForCashout', 'localTime'], inplace=True)\n",
    "uat_data_csv['datetime'] = pd.to_datetime(uat_data_csv['time'])\n",
    "prod_data_csv['datetime'] = pd.to_datetime(prod_data_csv['time'])\n",
    "prod_data_csv.drop(columns=['time'], inplace=True)\n",
    "uat_data_csv.drop(columns=['time'], inplace=True)"
   ]
  },
  {
   "cell_type": "code",
   "execution_count": 4,
   "id": "c5bcd34c-84be-40c1-9f0b-d8c51dfcc065",
   "metadata": {},
   "outputs": [],
   "source": [
    "combined_df = pd.merge_asof(prod_data_csv, uat_data_csv, on='datetime', direction='forward')"
   ]
  },
  {
   "cell_type": "code",
   "execution_count": 5,
   "id": "1e8be40f-b516-4bcb-9165-46994df7f28e",
   "metadata": {},
   "outputs": [],
   "source": [
    "combined_df.columns = ['prod_corr_ID', 'prod_price', 'datetime', 'uat_corr_ID', 'uat_price']"
   ]
  },
  {
   "cell_type": "code",
   "execution_count": 6,
   "id": "cdc8ca28-ede2-4897-b679-2a55176d0379",
   "metadata": {},
   "outputs": [],
   "source": [
    "combined_df['prod_prob'] = 1/combined_df['prod_price']\n",
    "combined_df['uat_prob'] = 1/combined_df['uat_price']\n",
    "combined_df['prob_diff'] = combined_df['prod_prob'] - combined_df['uat_prob']"
   ]
  },
  {
   "cell_type": "code",
   "execution_count": 7,
   "id": "44ea9c5f-6aa0-424f-a690-e195189fc769",
   "metadata": {},
   "outputs": [
    {
     "data": {
      "text/html": [
       "<div>\n",
       "<style scoped>\n",
       "    .dataframe tbody tr th:only-of-type {\n",
       "        vertical-align: middle;\n",
       "    }\n",
       "\n",
       "    .dataframe tbody tr th {\n",
       "        vertical-align: top;\n",
       "    }\n",
       "\n",
       "    .dataframe thead th {\n",
       "        text-align: right;\n",
       "    }\n",
       "</style>\n",
       "<table border=\"1\" class=\"dataframe\">\n",
       "  <thead>\n",
       "    <tr style=\"text-align: right;\">\n",
       "      <th></th>\n",
       "      <th>prod_corr_ID</th>\n",
       "      <th>prod_price</th>\n",
       "      <th>datetime</th>\n",
       "      <th>uat_corr_ID</th>\n",
       "      <th>uat_price</th>\n",
       "      <th>prod_prob</th>\n",
       "      <th>uat_prob</th>\n",
       "      <th>prob_diff</th>\n",
       "    </tr>\n",
       "  </thead>\n",
       "  <tbody>\n",
       "  </tbody>\n",
       "</table>\n",
       "</div>"
      ],
      "text/plain": [
       "Empty DataFrame\n",
       "Columns: [prod_corr_ID, prod_price, datetime, uat_corr_ID, uat_price, prod_prob, uat_prob, prob_diff]\n",
       "Index: []"
      ]
     },
     "execution_count": 7,
     "metadata": {},
     "output_type": "execute_result"
    }
   ],
   "source": [
    "#input threshold for flags based on change in demargination as current probability - (specific market) probability\n",
    "threshold = 0.05\n",
    "combined_df[(combined_df['prob_diff'] > threshold) | (combined_df['prob_diff'] < 0)]"
   ]
  }
 ],
 "metadata": {
  "kernelspec": {
   "display_name": "Python [conda env:base] *",
   "language": "python",
   "name": "conda-base-py"
  },
  "language_info": {
   "codemirror_mode": {
    "name": "ipython",
    "version": 3
   },
   "file_extension": ".py",
   "mimetype": "text/x-python",
   "name": "python",
   "nbconvert_exporter": "python",
   "pygments_lexer": "ipython3",
   "version": "3.13.5"
  }
 },
 "nbformat": 4,
 "nbformat_minor": 5
}
